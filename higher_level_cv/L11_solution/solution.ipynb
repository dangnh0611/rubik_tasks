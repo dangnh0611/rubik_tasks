{
 "cells": [
  {
   "cell_type": "markdown",
   "metadata": {
    "colab_type": "text",
    "id": "eiKa3Qdyqg2p"
   },
   "source": [
    "# BÀI TẬP VỀ NHÀ \n",
    "\n",
    "1. Thử nghiệm thuật toán trích xuất đặc trưng BoW với số lượng từ trong từ điển khác nhau. Vẽ biểu đồ độ chính xác trên tập test ứng với từng trường hợp.\n",
    "\n",
    "2. Sử dụng thuật toán Grid search kết hợp với Cross Validation tìm tham số tốt nhất cho mô hình SVM.\n",
    "\n",
    "3. Thay SVM bằng các bộ phân loại: K-Nearest Neighbors, Decision tree, Random forest. So sánh các kết quả và đưa ra nhận xét. \n",
    "\n",
    "4. Thử nghiệm bài toán Phân loại cảm xúc FERC-2013: https://www.kaggle.com/c/challenges-in-representation-learning-facial-expression-recognition-challenge"
   ]
  },
  {
   "cell_type": "code",
   "execution_count": 1,
   "metadata": {
    "colab": {},
    "colab_type": "code",
    "id": "OpxELiRMXpGK"
   },
   "outputs": [],
   "source": [
    "import warnings\n",
    "warnings.filterwarnings(\"ignore\")\n",
    "\n",
    "import os\n",
    "import numpy as np\n",
    "import cv2\n",
    "import matplotlib.pyplot as plt\n",
    "import pickle\n",
    "import sklearn\n",
    "\n",
    "from sklearn.cluster import KMeans\n",
    "from scipy.spatial.distance import cdist"
   ]
  },
  {
   "cell_type": "markdown",
   "metadata": {
    "colab_type": "text",
    "id": "hyIOiBQ-ZgIH"
   },
   "source": [
    "## Load data\n",
    "X: sample chứa list 1854 ảnh các ảnh các phương tiện giao thông.  \n",
    "Y: nhãn tương ứng, được đánh số {0,1,2,3,4} tương ứng với 5 loại phương tiện giao thông."
   ]
  },
  {
   "cell_type": "code",
   "execution_count": 2,
   "metadata": {},
   "outputs": [],
   "source": [
    "def load_image(image_path):\n",
    "    return cv2.imread(image_path)"
   ]
  },
  {
   "cell_type": "code",
   "execution_count": 3,
   "metadata": {
    "colab": {},
    "colab_type": "code",
    "id": "oIt-ZPEkZfAa"
   },
   "outputs": [],
   "source": [
    "def read_data(label2id):\n",
    "    X = []\n",
    "    Y = []\n",
    "\n",
    "    for label in os.listdir('trainingset'):\n",
    "        for img_file in os.listdir(os.path.join('trainingset', label)):\n",
    "            img = load_image(os.path.join('trainingset', label, img_file))\n",
    "            \n",
    "            X.append(img)\n",
    "            Y.append(label2id[label])\n",
    "    return X, Y"
   ]
  },
  {
   "cell_type": "code",
   "execution_count": 4,
   "metadata": {},
   "outputs": [],
   "source": [
    "# Label to id, used to convert string label to integer \n",
    "label2id = {'pedestrian':0, 'moto':1, 'truck':2, 'car':3, 'bus':4}\n",
    "X, Y = read_data(label2id)"
   ]
  },
  {
   "cell_type": "markdown",
   "metadata": {
    "colab_type": "text",
    "id": "MlTsMEzeXpG2"
   },
   "source": [
    "## Trích xuất đặc trưng (features extraction)\n",
    "\n",
    "Trích xuất đặc trưng SIFT (SIFT keypoints descriptor)"
   ]
  },
  {
   "cell_type": "code",
   "execution_count": 5,
   "metadata": {
    "colab": {},
    "colab_type": "code",
    "id": "8Gb7hau3XpG3"
   },
   "outputs": [],
   "source": [
    "def extract_sift_features(X):\n",
    "    image_descriptors = []\n",
    "    sift = cv2.xfeatures2d.SIFT_create()\n",
    "\n",
    "    for i in range(len(X)):\n",
    "        _, des = sift.detectAndCompute(X[i], None)\n",
    "        image_descriptors.append(des)\n",
    "\n",
    "    return image_descriptors"
   ]
  },
  {
   "cell_type": "code",
   "execution_count": 6,
   "metadata": {
    "colab": {
     "base_uri": "https://localhost:8080/",
     "height": 302
    },
    "colab_type": "code",
    "id": "ljXf-8cqXpG7",
    "outputId": "b26f6b78-4c8e-45d7-b52a-53ee875d93be"
   },
   "outputs": [],
   "source": [
    "image_descriptors = extract_sift_features(X)"
   ]
  },
  {
   "cell_type": "markdown",
   "metadata": {
    "colab_type": "text",
    "id": "VsA2CMi-XpHA"
   },
   "source": [
    "## 1. Thử nghiệm thuật toán trích xuất đặc trưng BoW với số lượng từ trong từ điển khác nhau. Vẽ biểu đồ độ chính xác trên tập test ứng với từng trường hợp."
   ]
  },
  {
   "cell_type": "markdown",
   "metadata": {
    "colab_type": "text",
    "id": "rPALSvx5gINZ"
   },
   "source": [
    "### 1.1. Trích xuất BoW với số lượng từ trong từ điển khác nhau"
   ]
  },
  {
   "cell_type": "markdown",
   "metadata": {
    "colab_type": "text",
    "id": "3vZmIn9SXpHB"
   },
   "source": [
    "#### 1.1.1. Trước tiên ta sẽ xây dựng một list chứa tất cả các descriptors:"
   ]
  },
  {
   "cell_type": "code",
   "execution_count": 7,
   "metadata": {
    "colab": {},
    "colab_type": "code",
    "id": "hMGJxWP2XpHC"
   },
   "outputs": [
    {
     "name": "stdout",
     "output_type": "stream",
     "text": [
      "Total number of descriptors: 170686\n"
     ]
    }
   ],
   "source": [
    "all_descriptors = []\n",
    "for descriptors in image_descriptors:\n",
    "    if descriptors is not None:\n",
    "        for des in descriptors:\n",
    "            all_descriptors.append(des)\n",
    "print('Total number of descriptors: %d' %(len(all_descriptors)))"
   ]
  },
  {
   "cell_type": "markdown",
   "metadata": {
    "colab_type": "text",
    "id": "MxQuU7b5XpHH"
   },
   "source": [
    "#### 1.1.2. Sử dụng K-mean clustering để gom cụm"
   ]
  },
  {
   "cell_type": "code",
   "execution_count": 8,
   "metadata": {
    "colab": {},
    "colab_type": "code",
    "id": "3yolTSfOXpHI"
   },
   "outputs": [],
   "source": [
    "def kmeans_bow(all_descriptors, num_clusters):\n",
    "    bow_dict = []\n",
    "\n",
    "    #### YOUR CODE HERE ####\n",
    "\n",
    "    kmeans = KMeans(n_clusters=num_clusters).fit(all_descriptors)\n",
    "    bow_dict = kmeans.cluster_centers_\n",
    "\n",
    "    #### END YOUR CODE #####\n",
    "\n",
    "    return bow_dict"
   ]
  },
  {
   "cell_type": "markdown",
   "metadata": {
    "colab_type": "text",
    "id": "_wpPsodadlgL"
   },
   "source": [
    "#### 1.1.3. Thử nghiệm với số lượng từ trong từ điển khác nhau, lưu kết quả ra một list"
   ]
  },
  {
   "cell_type": "code",
   "execution_count": 9,
   "metadata": {
    "colab": {},
    "colab_type": "code",
    "id": "GbutqFqzXpHM"
   },
   "outputs": [],
   "source": [
    "num_clusters_range=list(range(20,201,10))+[250,300,400,500]\n",
    "if not os.path.isfile('BoW.pydict'):\n",
    "    BoW={}\n",
    "    for num_clusters in num_clusters_range:\n",
    "        print(num_clusters)\n",
    "        BoW[num_clusters] = kmeans_bow(all_descriptors, num_clusters)\n",
    "else:\n",
    "    BoW=pickle.load(open('BoW.pydict','rb'))\n"
   ]
  },
  {
   "cell_type": "markdown",
   "metadata": {
    "colab_type": "text",
    "id": "lYXyv19ng-NO"
   },
   "source": [
    "### 1.2. Trích xuất đặc trưng SIFT ứng với mỗi BoW"
   ]
  },
  {
   "cell_type": "code",
   "execution_count": 10,
   "metadata": {
    "colab": {},
    "colab_type": "code",
    "id": "0hufEtOPXpHS"
   },
   "outputs": [],
   "source": [
    "from scipy.spatial.distance import cdist"
   ]
  },
  {
   "cell_type": "code",
   "execution_count": 11,
   "metadata": {
    "colab": {},
    "colab_type": "code",
    "id": "1_8eHNAfXpHY"
   },
   "outputs": [],
   "source": [
    "def create_features_bow(image_descriptors, BoW, num_clusters):\n",
    "    X_features = []\n",
    "\n",
    "    for i in range(len(image_descriptors)):\n",
    "        features = np.array([0] * num_clusters)\n",
    "\n",
    "        if image_descriptors[i] is not None:\n",
    "            distance = cdist(image_descriptors[i], BoW)\n",
    "            argmin = np.argmin(distance, axis=1)\n",
    "\n",
    "            for j in argmin:\n",
    "                features[j] += 1\n",
    "        X_features.append(features)\n",
    "    return X_features"
   ]
  },
  {
   "cell_type": "markdown",
   "metadata": {
    "colab_type": "text",
    "id": "efw1wlYrki23"
   },
   "source": [
    "### 1.3. Training và đánh giá mô hình với tham số số lượng từ trong từ điển cho trước"
   ]
  },
  {
   "cell_type": "code",
   "execution_count": 12,
   "metadata": {
    "colab": {},
    "colab_type": "code",
    "id": "jDWeft2KkiBF"
   },
   "outputs": [],
   "source": [
    "def train_and_evaluate(BoW,num_clusters,X_train,Y_train,X_test,Y_test):\n",
    "  print(\"num_clusters=\",num_clusters)\n",
    "  svm = sklearn.svm.SVC(C = 30)\n",
    "  svm.fit(X_train, Y_train)\n",
    "  train_score=svm.score(X_train, Y_train)\n",
    "  test_score=svm.score(X_test, Y_test)\n",
    "  print(\"Train set accuracy:\",train_score)\n",
    "  print(\"Test set accuracy:\",test_score)\n",
    "  return train_score,test_score\n",
    "  "
   ]
  },
  {
   "cell_type": "markdown",
   "metadata": {
    "colab_type": "text",
    "id": "f9GohoSvquVN"
   },
   "source": [
    "Đánh giá kết quả trên test set với số lượng từ trong từ điển khác nhau"
   ]
  },
  {
   "cell_type": "code",
   "execution_count": 13,
   "metadata": {
    "colab": {},
    "colab_type": "code",
    "id": "oYdYNtuGkKe3"
   },
   "outputs": [
    {
     "name": "stdout",
     "output_type": "stream",
     "text": [
      "num_clusters= 20\n",
      "Train set accuracy: 1.0\n",
      "Test set accuracy: 0.5309973045822103\n",
      "--------------------------------------\n",
      "num_clusters= 30\n",
      "Train set accuracy: 1.0\n",
      "Test set accuracy: 0.5902964959568733\n",
      "--------------------------------------\n",
      "num_clusters= 40\n",
      "Train set accuracy: 1.0\n",
      "Test set accuracy: 0.6657681940700808\n",
      "--------------------------------------\n",
      "num_clusters= 50\n",
      "Train set accuracy: 1.0\n",
      "Test set accuracy: 0.6630727762803235\n",
      "--------------------------------------\n",
      "num_clusters= 60\n",
      "Train set accuracy: 1.0\n",
      "Test set accuracy: 0.6792452830188679\n",
      "--------------------------------------\n",
      "num_clusters= 70\n",
      "Train set accuracy: 1.0\n",
      "Test set accuracy: 0.7115902964959568\n",
      "--------------------------------------\n",
      "num_clusters= 80\n",
      "Train set accuracy: 1.0\n",
      "Test set accuracy: 0.7142857142857143\n",
      "--------------------------------------\n",
      "num_clusters= 90\n",
      "Train set accuracy: 1.0\n",
      "Test set accuracy: 0.7304582210242587\n",
      "--------------------------------------\n",
      "num_clusters= 100\n",
      "Train set accuracy: 1.0\n",
      "Test set accuracy: 0.738544474393531\n",
      "--------------------------------------\n",
      "num_clusters= 110\n",
      "Train set accuracy: 1.0\n",
      "Test set accuracy: 0.77088948787062\n",
      "--------------------------------------\n",
      "num_clusters= 120\n",
      "Train set accuracy: 1.0\n",
      "Test set accuracy: 0.7628032345013477\n",
      "--------------------------------------\n",
      "num_clusters= 130\n",
      "Train set accuracy: 1.0\n",
      "Test set accuracy: 0.7574123989218329\n",
      "--------------------------------------\n",
      "num_clusters= 140\n",
      "Train set accuracy: 1.0\n",
      "Test set accuracy: 0.7358490566037735\n",
      "--------------------------------------\n",
      "num_clusters= 150\n",
      "Train set accuracy: 1.0\n",
      "Test set accuracy: 0.7439353099730458\n",
      "--------------------------------------\n",
      "num_clusters= 160\n",
      "Train set accuracy: 1.0\n",
      "Test set accuracy: 0.7681940700808625\n",
      "--------------------------------------\n",
      "num_clusters= 170\n",
      "Train set accuracy: 1.0\n",
      "Test set accuracy: 0.7466307277628033\n",
      "--------------------------------------\n",
      "num_clusters= 180\n",
      "Train set accuracy: 1.0\n",
      "Test set accuracy: 0.7654986522911051\n",
      "--------------------------------------\n",
      "num_clusters= 190\n",
      "Train set accuracy: 1.0\n",
      "Test set accuracy: 0.7735849056603774\n",
      "--------------------------------------\n",
      "num_clusters= 200\n",
      "Train set accuracy: 1.0\n",
      "Test set accuracy: 0.7654986522911051\n",
      "--------------------------------------\n",
      "num_clusters= 250\n",
      "Train set accuracy: 0.9993256911665542\n",
      "Test set accuracy: 0.7897574123989218\n",
      "--------------------------------------\n",
      "num_clusters= 300\n",
      "Train set accuracy: 0.9993256911665542\n",
      "Test set accuracy: 0.7816711590296496\n",
      "--------------------------------------\n",
      "num_clusters= 400\n",
      "Train set accuracy: 1.0\n",
      "Test set accuracy: 0.8086253369272237\n",
      "--------------------------------------\n",
      "num_clusters= 500\n",
      "Train set accuracy: 1.0\n",
      "Test set accuracy: 0.7789757412398922\n",
      "--------------------------------------\n"
     ]
    }
   ],
   "source": [
    "from sklearn.model_selection import train_test_split\n",
    "\n",
    "Score={}\n",
    "for num_clusters in num_clusters_range:\n",
    "  X_features = create_features_bow(image_descriptors, BoW[num_clusters], num_clusters)\n",
    "  #fixed random_state=42, each iterations, training set and test set are splitted invariantly\n",
    "  X_train, X_test, Y_train, Y_test = train_test_split(X_features, Y, test_size=0.2, random_state=42)\n",
    "  Score[num_clusters]=train_and_evaluate(BoW[num_clusters],num_clusters,X_train,Y_train,X_test,Y_test)\n",
    "  print(\"--------------------------------------\")\n",
    "  \n",
    "  "
   ]
  },
  {
   "cell_type": "code",
   "execution_count": 14,
   "metadata": {},
   "outputs": [
    {
     "data": {
      "text/plain": [
       "Text(0, 0.5, 'accuracy')"
      ]
     },
     "execution_count": 14,
     "metadata": {},
     "output_type": "execute_result"
    },
    {
     "data": {
      "image/png": "[encoded data removed]",
      "text/plain": [
       "<Figure size 432x288 with 1 Axes>"
      ]
     },
     "metadata": {
      "needs_background": "light"
     },
     "output_type": "display_data"
    }
   ],
   "source": [
    "score_test=[x[1] for x in list(Score.values())]\n",
    "plt.subplot()\n",
    "plt.plot(list(Score.keys()),score_test)\n",
    "plt.xlabel('number of words')\n",
    "plt.ylabel('accuracy')"
   ]
  },
  {
   "cell_type": "markdown",
   "metadata": {},
   "source": [
    "## 2. Sử dụng thuật toán Grid search kết hợp với Cross Validation tìm tham số tốt nhất cho mô hình SVM"
   ]
  },
  {
   "cell_type": "markdown",
   "metadata": {},
   "source": [
    "Theo đánh giá ở trên, ta chọn số lượng từ trong từ điển (number of words) là 110.\n",
    "Trích xuất đặc trưng, phân chia dữ liệu thành training set và test set."
   ]
  },
  {
   "cell_type": "code",
   "execution_count": 15,
   "metadata": {},
   "outputs": [],
   "source": [
    "num_cluster=110\n",
    "X_features = create_features_bow(image_descriptors, BoW[num_clusters], num_clusters)\n",
    "X_train, X_test, Y_train, Y_test = train_test_split(X_features, Y, test_size=0.2, random_state=42)"
   ]
  },
  {
   "cell_type": "markdown",
   "metadata": {},
   "source": [
    "Các tham số của model SVM mà ta quan tâm: C, kernel type, decision_function_shape."
   ]
  },
  {
   "cell_type": "code",
   "execution_count": 16,
   "metadata": {},
   "outputs": [
    {
     "name": "stdout",
     "output_type": "stream",
     "text": [
      "Fitting 3 folds for each of 56 candidates, totalling 168 fits\n"
     ]
    },
    {
     "name": "stderr",
     "output_type": "stream",
     "text": [
      "[Parallel(n_jobs=4)]: Using backend LokyBackend with 4 concurrent workers.\n",
      "[Parallel(n_jobs=4)]: Done   5 tasks      | elapsed:    3.7s\n",
      "[Parallel(n_jobs=4)]: Done  10 tasks      | elapsed:    6.1s\n",
      "[Parallel(n_jobs=4)]: Done  17 tasks      | elapsed:    8.5s\n",
      "[Parallel(n_jobs=4)]: Done  24 tasks      | elapsed:   12.1s\n",
      "[Parallel(n_jobs=4)]: Done  33 tasks      | elapsed:   16.1s\n",
      "[Parallel(n_jobs=4)]: Done  42 tasks      | elapsed:   19.2s\n",
      "[Parallel(n_jobs=4)]: Done  53 tasks      | elapsed:   23.9s\n",
      "[Parallel(n_jobs=4)]: Done  64 tasks      | elapsed:   28.8s\n",
      "[Parallel(n_jobs=4)]: Done  77 tasks      | elapsed:   35.5s\n",
      "[Parallel(n_jobs=4)]: Done  90 tasks      | elapsed:   41.7s\n",
      "[Parallel(n_jobs=4)]: Done 105 tasks      | elapsed:   49.8s\n",
      "[Parallel(n_jobs=4)]: Done 120 tasks      | elapsed:   55.9s\n",
      "[Parallel(n_jobs=4)]: Done 137 tasks      | elapsed:  1.1min\n",
      "[Parallel(n_jobs=4)]: Done 154 tasks      | elapsed:  1.2min\n",
      "[Parallel(n_jobs=4)]: Done 168 out of 168 | elapsed:  1.3min finished\n"
     ]
    },
    {
     "data": {
      "text/plain": [
       "GridSearchCV(cv=3, error_score='raise-deprecating',\n",
       "             estimator=SVC(C=1.0, cache_size=200, class_weight=None, coef0=0.0,\n",
       "                           decision_function_shape='ovr', degree=3,\n",
       "                           gamma='auto_deprecated', kernel='rbf', max_iter=-1,\n",
       "                           probability=False, random_state=42, shrinking=True,\n",
       "                           tol=0.001, verbose=False),\n",
       "             iid='warn', n_jobs=4,\n",
       "             param_grid={'C': [10, 30, 100, 300, 1000, 3000, 10000],\n",
       "                         'decision_function_shape': ['ovr', 'ovo'],\n",
       "                         'kernel': ['rbf', 'linear', 'poly', 'sigmoid']},\n",
       "             pre_dispatch='2*n_jobs', refit=True, return_train_score=False,\n",
       "             scoring=None, verbose=10)"
      ]
     },
     "execution_count": 16,
     "metadata": {},
     "output_type": "execute_result"
    }
   ],
   "source": [
    "from sklearn.model_selection import GridSearchCV\n",
    "param_grid={'C':[10,30,100,300,1000,3000,10000],\n",
    "           'kernel':['rbf','linear','poly','sigmoid'],\n",
    "           'decision_function_shape':['ovr','ovo']}\n",
    "\n",
    "gs=GridSearchCV(estimator=sklearn.svm.SVC(random_state=42),param_grid=param_grid,cv=3,n_jobs=4,verbose=10)\n",
    "gs.fit(X_train,Y_train)"
   ]
  },
  {
   "cell_type": "markdown",
   "metadata": {},
   "source": [
    "Đánh giá kết quả:"
   ]
  },
  {
   "cell_type": "code",
   "execution_count": 17,
   "metadata": {},
   "outputs": [
    {
     "name": "stdout",
     "output_type": "stream",
     "text": [
      "Best parameter found:\n",
      "{'C': 10, 'decision_function_shape': 'ovr', 'kernel': 'rbf'}\n",
      "Best score on validation set: 0.8280512474713418\n",
      "Accuracy on test set: 0.7870619946091644\n"
     ]
    }
   ],
   "source": [
    "best_svm=gs.best_estimator_\n",
    "test_score=best_svm.score(X_test,Y_test)\n",
    "print('Best parameter found:',gs.best_params_,sep='\\n')\n",
    "print('Best score on validation set:',gs.best_score_)\n",
    "print('Accuracy on test set:',test_score)\n",
    "global_metric={}\n",
    "global_metric['SVM']=test_score\n"
   ]
  },
  {
   "cell_type": "markdown",
   "metadata": {},
   "source": [
    "## 3. Thay SVM bằng các bộ phân loại: K-Nearest Neighbors, Decision tree, Random forest. So sánh các kết quả và đưa ra nhận xét."
   ]
  },
  {
   "cell_type": "markdown",
   "metadata": {},
   "source": [
    "Cách tiếp cận chung: sử dụng grid search tìm ra tham số tốt cho mô hình.\n",
    "Thực hiện tương tự như ở yêu cầu 2, đối với mô hình SVM"
   ]
  },
  {
   "cell_type": "markdown",
   "metadata": {},
   "source": [
    "### 3.1. K-nearest neighbors"
   ]
  },
  {
   "cell_type": "code",
   "execution_count": 18,
   "metadata": {},
   "outputs": [
    {
     "name": "stdout",
     "output_type": "stream",
     "text": [
      "Fitting 3 folds for each of 16 candidates, totalling 48 fits\n"
     ]
    },
    {
     "name": "stderr",
     "output_type": "stream",
     "text": [
      "[Parallel(n_jobs=4)]: Using backend LokyBackend with 4 concurrent workers.\n",
      "[Parallel(n_jobs=4)]: Done   5 tasks      | elapsed:    2.1s\n",
      "[Parallel(n_jobs=4)]: Done  10 tasks      | elapsed:    3.4s\n",
      "[Parallel(n_jobs=4)]: Done  17 tasks      | elapsed:    5.5s\n",
      "[Parallel(n_jobs=4)]: Done  24 tasks      | elapsed:    7.1s\n",
      "[Parallel(n_jobs=4)]: Done  33 tasks      | elapsed:    9.8s\n",
      "[Parallel(n_jobs=4)]: Done  46 out of  48 | elapsed:   13.8s remaining:    0.6s\n",
      "[Parallel(n_jobs=4)]: Done  48 out of  48 | elapsed:   14.0s finished\n"
     ]
    },
    {
     "data": {
      "text/plain": [
       "GridSearchCV(cv=3, error_score='raise-deprecating',\n",
       "             estimator=KNeighborsClassifier(algorithm='auto', leaf_size=30,\n",
       "                                            metric='minkowski',\n",
       "                                            metric_params=None, n_jobs=None,\n",
       "                                            n_neighbors=5, p=2,\n",
       "                                            weights='uniform'),\n",
       "             iid='warn', n_jobs=4,\n",
       "             param_grid={'n_neighbors': [11, 21, 31, 41, 51, 71, 91, 121],\n",
       "                         'weights': ['uniform', 'distance']},\n",
       "             pre_dispatch='2*n_jobs', refit=True, return_train_score=False,\n",
       "             scoring=None, verbose=10)"
      ]
     },
     "execution_count": 18,
     "metadata": {},
     "output_type": "execute_result"
    }
   ],
   "source": [
    "param_grid={'n_neighbors':[11,21,31,41,51,71,91,121],\n",
    "           'weights':['uniform','distance']}\n",
    "\n",
    "gs=GridSearchCV(estimator=sklearn.neighbors.KNeighborsClassifier(),param_grid=param_grid,cv=3,n_jobs=4,verbose=10)\n",
    "gs.fit(X_train,Y_train)"
   ]
  },
  {
   "cell_type": "markdown",
   "metadata": {},
   "source": [
    "Đánh gía kết quả"
   ]
  },
  {
   "cell_type": "code",
   "execution_count": 19,
   "metadata": {},
   "outputs": [
    {
     "name": "stdout",
     "output_type": "stream",
     "text": [
      "Best parameter found:\n",
      "{'n_neighbors': 21, 'weights': 'distance'}\n",
      "Best score on validation set: 0.466621712744437\n",
      "Accuracy on test set: 0.4636118598382749\n"
     ]
    }
   ],
   "source": [
    "best_knn=gs.best_estimator_\n",
    "test_score=best_knn.score(X_test,Y_test)\n",
    "print('Best parameter found:',gs.best_params_,sep='\\n')\n",
    "print('Best score on validation set:',gs.best_score_)\n",
    "print('Accuracy on test set:',test_score)\n",
    "global_metric['KNN']=test_score"
   ]
  },
  {
   "cell_type": "markdown",
   "metadata": {},
   "source": [
    "Độ chính xác rất thấp, mô hình unsupervise learning đơn giản này không phù hợp với bài toán."
   ]
  },
  {
   "cell_type": "markdown",
   "metadata": {},
   "source": [
    "### 3.2. Decision tree\n",
    "Sử dụng bộ tham số mặc định, đánh giá kết quả trên tập test"
   ]
  },
  {
   "cell_type": "code",
   "execution_count": 20,
   "metadata": {},
   "outputs": [
    {
     "name": "stdout",
     "output_type": "stream",
     "text": [
      "DecisionTreeClassifier(class_weight=None, criterion='gini', max_depth=None,\n",
      "                       max_features=None, max_leaf_nodes=None,\n",
      "                       min_impurity_decrease=0.0, min_impurity_split=None,\n",
      "                       min_samples_leaf=1, min_samples_split=2,\n",
      "                       min_weight_fraction_leaf=0.0, presort=False,\n",
      "                       random_state=None, splitter='best')\n"
     ]
    },
    {
     "data": {
      "text/plain": [
       "DecisionTreeClassifier(class_weight=None, criterion='gini', max_depth=None,\n",
       "                       max_features=None, max_leaf_nodes=None,\n",
       "                       min_impurity_decrease=0.0, min_impurity_split=None,\n",
       "                       min_samples_leaf=1, min_samples_split=2,\n",
       "                       min_weight_fraction_leaf=0.0, presort=False,\n",
       "                       random_state=None, splitter='best')"
      ]
     },
     "execution_count": 20,
     "metadata": {},
     "output_type": "execute_result"
    }
   ],
   "source": [
    "decision_tree=sklearn.tree.DecisionTreeClassifier()\n",
    "print(decision_tree)\n",
    "decision_tree.fit(X_train,Y_train)"
   ]
  },
  {
   "cell_type": "code",
   "execution_count": 21,
   "metadata": {},
   "outputs": [
    {
     "name": "stdout",
     "output_type": "stream",
     "text": [
      "Accuracy on test set: 0.5956873315363881\n"
     ]
    }
   ],
   "source": [
    "test_score=decision_tree.score(X_test,Y_test)\n",
    "print('Accuracy on test set:',test_score)\n",
    "global_metric['Decision tree']=test_score"
   ]
  },
  {
   "cell_type": "markdown",
   "metadata": {},
   "source": [
    "### 3.3.Random forest\n",
    "Tham số quan tâm: số lượng decision tree sử dụng trong mô hình."
   ]
  },
  {
   "cell_type": "code",
   "execution_count": 22,
   "metadata": {},
   "outputs": [
    {
     "name": "stdout",
     "output_type": "stream",
     "text": [
      "Fitting 3 folds for each of 7 candidates, totalling 21 fits\n"
     ]
    },
    {
     "name": "stderr",
     "output_type": "stream",
     "text": [
      "[Parallel(n_jobs=2)]: Using backend LokyBackend with 2 concurrent workers.\n",
      "[Parallel(n_jobs=2)]: Done   1 tasks      | elapsed:    0.4s\n",
      "[Parallel(n_jobs=2)]: Done   4 tasks      | elapsed:    0.7s\n",
      "[Parallel(n_jobs=2)]: Done   9 tasks      | elapsed:    1.9s\n",
      "[Parallel(n_jobs=2)]: Done  14 tasks      | elapsed:    2.9s\n",
      "[Parallel(n_jobs=2)]: Done  21 out of  21 | elapsed:    5.3s remaining:    0.0s\n",
      "[Parallel(n_jobs=2)]: Done  21 out of  21 | elapsed:    5.3s finished\n"
     ]
    },
    {
     "data": {
      "text/plain": [
       "GridSearchCV(cv=3, error_score='raise-deprecating',\n",
       "             estimator=RandomForestClassifier(bootstrap=True, class_weight=None,\n",
       "                                              criterion='gini', max_depth=None,\n",
       "                                              max_features='auto',\n",
       "                                              max_leaf_nodes=None,\n",
       "                                              min_impurity_decrease=0.0,\n",
       "                                              min_impurity_split=None,\n",
       "                                              min_samples_leaf=1,\n",
       "                                              min_samples_split=2,\n",
       "                                              min_weight_fraction_leaf=0.0,\n",
       "                                              n_estimators='warn', n_jobs=2,\n",
       "                                              oob_score=False, random_state=42,\n",
       "                                              verbose=0, warm_start=False),\n",
       "             iid='warn', n_jobs=2,\n",
       "             param_grid={'n_estimators': [10, 30, 50, 70, 100, 150, 200]},\n",
       "             pre_dispatch='2*n_jobs', refit=True, return_train_score=False,\n",
       "             scoring=None, verbose=10)"
      ]
     },
     "execution_count": 22,
     "metadata": {},
     "output_type": "execute_result"
    }
   ],
   "source": [
    "from sklearn.ensemble import RandomForestClassifier\n",
    "param_grid={'n_estimators':[10,30,50,70,100,150,200]}\n",
    "gs=GridSearchCV(estimator=RandomForestClassifier(n_jobs=2,random_state=42),param_grid=param_grid,cv=3,n_jobs=2,verbose=10)\n",
    "gs.fit(X_train,Y_train)"
   ]
  },
  {
   "cell_type": "code",
   "execution_count": 23,
   "metadata": {},
   "outputs": [
    {
     "name": "stdout",
     "output_type": "stream",
     "text": [
      "Best parameter found:\n",
      "{'n_estimators': 200}\n",
      "Best score on validation set: 0.75590020229265\n",
      "Accuracy on test set: 0.7601078167115903\n"
     ]
    }
   ],
   "source": [
    "best_random_forest=gs.best_estimator_\n",
    "test_score=best_random_forest.score(X_test,Y_test)\n",
    "print('Best parameter found:',gs.best_params_,sep='\\n')\n",
    "print('Best score on validation set:',gs.best_score_)\n",
    "print('Accuracy on test set:',test_score)\n",
    "global_metric['Random Forest']=test_score"
   ]
  },
  {
   "cell_type": "markdown",
   "metadata": {},
   "source": [
    "Dễ thấy số lượng decision tree càng nhiều, mô hình càng có độ chính xác cao (trade off với thời gian thực thi). Độ chính xác được cải thiện lớn so với decision tree thông thường (tăng thêm 15%)"
   ]
  },
  {
   "cell_type": "markdown",
   "metadata": {},
   "source": [
    "### 3.4. Đánh giá các mô hình"
   ]
  },
  {
   "cell_type": "code",
   "execution_count": 24,
   "metadata": {},
   "outputs": [
    {
     "name": "stdout",
     "output_type": "stream",
     "text": [
      "{'SVM': 0.7870619946091644, 'KNN': 0.4636118598382749, 'Decision tree': 0.5956873315363881, 'Random Forest': 0.7601078167115903}\n"
     ]
    }
   ],
   "source": [
    "print(global_metric)"
   ]
  },
  {
   "cell_type": "code",
   "execution_count": 26,
   "metadata": {},
   "outputs": [
    {
     "data": {
      "image/png": "[encoded data removed]",
      "text/plain": [
       "<Figure size 432x288 with 1 Axes>"
      ]
     },
     "metadata": {
      "needs_background": "light"
     },
     "output_type": "display_data"
    }
   ],
   "source": [
    "y_pos = np.arange(len(global_metric))\n",
    "plt.barh(y_pos, list(global_metric.values()), align='center')\n",
    "plt.yticks(y_pos, list(global_metric.keys()))\n",
    "plt.xlabel('Accuracy')\n",
    "plt.show()"
   ]
  },
  {
   "cell_type": "markdown",
   "metadata": {},
   "source": [
    "SVM model hoạt động tốt nhất vì tính phù hợp của nó, và hơn nữa, số lượng từ trong từ điển là 110 cũng được tối ưu sử dụng đánh giá trên mô hình SVM. "
   ]
  }
 ],
 "metadata": {
  "colab": {
   "collapsed_sections": [],
   "name": "solution.ipynb",
   "provenance": [],
   "version": "0.3.2"
  },
  "kernelspec": {
   "display_name": "Python 3",
   "language": "python",
   "name": "python3"
  },
  "language_info": {
   "codemirror_mode": {
    "name": "ipython",
    "version": 3
   },
   "file_extension": ".py",
   "mimetype": "text/x-python",
   "name": "python",
   "nbconvert_exporter": "python",
   "pygments_lexer": "ipython3",
   "version": "3.7.3"
  }
 },
 "nbformat": 4,
 "nbformat_minor": 1
}
