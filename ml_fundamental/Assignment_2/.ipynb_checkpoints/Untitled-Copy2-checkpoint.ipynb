{
 "cells": [
  {
   "cell_type": "code",
   "execution_count": 1,
   "metadata": {},
   "outputs": [],
   "source": [
    "import numpy as np \n",
    "import os\n",
    "import sys\n",
    "import cv2\n",
    "import matplotlib.pyplot as plt\n",
    "import skimage"
   ]
  },
  {
   "cell_type": "markdown",
   "metadata": {},
   "source": [
    "Function return the closet cluster centroid to each sample in data"
   ]
  },
  {
   "cell_type": "code",
   "execution_count": 2,
   "metadata": {},
   "outputs": [],
   "source": [
    "def findClosetCentroids(data,centroids):\n",
    "    \"\"\"Return the closet centroid index to each data point\"\"\"\n",
    "    nSample=data.shape[0]\n",
    "    #number of clusters\n",
    "    K=centroids.shape[0]\n",
    "    index=np.zeros((nSample,1))\n",
    "    temp=np.zeros((K,1))\n",
    "    for i in range(nSample):\n",
    "        for j in range(K):\n",
    "            temp[j]=np.sum((data[i,:]-centroids[j,:])**2)\n",
    "            index[i]=np.argmin(temp)\n",
    "    return index"
   ]
  },
  {
   "cell_type": "markdown",
   "metadata": {},
   "source": [
    "Function to update the cluster's centroid base on the mean of members in each cluster"
   ]
  },
  {
   "cell_type": "code",
   "execution_count": 3,
   "metadata": {},
   "outputs": [],
   "source": [
    "def updateCentroids(data,index,K):\n",
    "    \"\"\"Update the centroids\"\"\"\n",
    "    temp=np.zeros((K,data.shape[1]))\n",
    "    count=np.zeros((K,1))\n",
    "    for i in range(index.shape[0]):\n",
    "        temp[int(index[i])]+=data[i]\n",
    "        count[int(index[i])]+=1\n",
    "    centroids=temp/count\n",
    "    print(count)\n",
    "    print(centroids)\n",
    "    return centroids"
   ]
  },
  {
   "cell_type": "markdown",
   "metadata": {},
   "source": [
    "Initialize centroids list randomlly, each one is picked in the data sample"
   ]
  },
  {
   "cell_type": "code",
   "execution_count": null,
   "metadata": {},
   "outputs": [],
   "source": [
    "def randomInitCentroids(data,K):\n",
    "    print(data.shape)\n",
    "    centroids=np.zeros((K,data.shape[1]))\n",
    "    for i in range(K):\n",
    "        centroids[i]=data[np.random.randint(0,data.shape[0]+1)]\n",
    "    return centroids"
   ]
  },
  {
   "cell_type": "markdown",
   "metadata": {},
   "source": [
    "Implement K-mean clustering algorithm"
   ]
  },
  {
   "cell_type": "code",
   "execution_count": null,
   "metadata": {},
   "outputs": [],
   "source": [
    "def KmeanClustering(data,K,epoch=500):\n",
    "    \"\"\"K-mean clustering implementation\"\"\"\n",
    "    centroids=randomInitCentroids(data,K)\n",
    "    for i in range(epoch):\n",
    "        print(\"Number of interations:\",i+1)\n",
    "        index=findClosetCentroids(data,centroids)\n",
    "        centroids=updateCentroids(data,index,centroids.shape[0])\n",
    "    return centroids"
   ]
  },
  {
   "cell_type": "markdown",
   "metadata": {},
   "source": [
    "Testing with k in {2,4,6,8}"
   ]
  },
  {
   "cell_type": "code",
   "execution_count": null,
   "metadata": {},
   "outputs": [
    {
     "name": "stdout",
     "output_type": "stream",
     "text": [
      "[[255 255 255]\n",
      " [255 255 255]\n",
      " [255 255 255]\n",
      " ...\n",
      " [255 255 255]\n",
      " [255 255 255]\n",
      " [255 255 255]]\n",
      "K-mean clustering with K= 2\n",
      "(110889, 3)\n",
      "Number of interations: 1\n",
      "[[54187.]\n",
      " [56702.]]\n",
      "[[238.61900456 200.77051691 192.52440622]\n",
      " [156.255476    70.47821946  88.09724525]]\n",
      "Number of interations: 2\n",
      "[[44937.]\n",
      " [65952.]]\n",
      "[[242.88459399 216.09671318 208.23702072]\n",
      " [164.90085213  78.30952814  92.03758794]]\n",
      "Number of interations: 3\n",
      "[[39079.]\n",
      " [71810.]]\n",
      "[[246.11415338 227.17712838 220.31029453]\n",
      " [169.50495753  83.51974655  94.946442  ]]\n",
      "Number of interations: 4\n",
      "[[36321.]\n",
      " [74568.]]\n",
      "[[247.64970678 232.73524958 226.64370474]\n",
      " [171.59050799  86.12583146  96.49828345]]\n",
      "Number of interations: 5\n",
      "[[35391.]\n",
      " [75498.]]\n",
      "[[248.29654432 234.63776101 228.72244356]\n",
      " [172.22420461  87.03996132  97.12699674]]\n",
      "Number of interations: 6\n",
      "[[35097.]\n",
      " [75792.]]\n",
      "[[248.52520158 235.22702795 229.37185514]\n",
      " [172.41340775  87.33962687  97.33673739]]\n",
      "Number of interations: 7\n",
      "[[35025.]\n",
      " [75864.]]\n",
      "[[248.57695931 235.37187723 229.53207709]\n",
      " [172.46174734  87.41310767  97.38807603]]\n",
      "Number of interations: 8\n",
      "[[35000.]\n",
      " [75889.]]\n",
      "[[248.59491429 235.42014286 229.58982857]\n",
      " [172.47854103  87.4395894   97.40497305]]\n",
      "Number of interations: 9\n"
     ]
    }
   ],
   "source": [
    "img=skimage.io.imread(\"test0.png\")\n",
    "data=img.reshape(-1,3)\n",
    "print(data)\n",
    "for i,k in enumerate([2,4,6,8]):\n",
    "    print(\"K-mean clustering with K=\",k)\n",
    "    centroids=KmeanClustering(data,k,20)\n",
    "    index=findClosetCentroids(data,centroids)\n",
    "    flat_ret=data.copy()\n",
    "    for j in range(flat_ret.shape[0]):\n",
    "        flat_ret[j]=centroids[int(index[j])]\n",
    "    ret=flat_ret.reshape(img.shape)\n",
    "    print(ret)\n",
    "    plt.subplot(2,2,i+1)\n",
    "    plt.title(\"K=%d\"%k)\n",
    "    plt.imshow(ret)"
   ]
  },
  {
   "cell_type": "markdown",
   "metadata": {},
   "source": [
    "Visualize the result with k=2,4,6,8"
   ]
  },
  {
   "cell_type": "code",
   "execution_count": null,
   "metadata": {},
   "outputs": [],
   "source": [
    "plt.show()"
   ]
  }
 ],
 "metadata": {
  "kernelspec": {
   "display_name": "Python 3",
   "language": "python",
   "name": "python3"
  },
  "language_info": {
   "codemirror_mode": {
    "name": "ipython",
    "version": 3
   },
   "file_extension": ".py",
   "mimetype": "text/x-python",
   "name": "python",
   "nbconvert_exporter": "python",
   "pygments_lexer": "ipython3",
   "version": "3.7.3"
  }
 },
 "nbformat": 4,
 "nbformat_minor": 2
}
