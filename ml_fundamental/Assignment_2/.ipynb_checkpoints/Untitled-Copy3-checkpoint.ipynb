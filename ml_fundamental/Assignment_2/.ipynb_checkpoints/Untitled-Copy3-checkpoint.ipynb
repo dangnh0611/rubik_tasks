{
 "cells": [
  {
   "cell_type": "code",
   "execution_count": 1,
   "metadata": {},
   "outputs": [],
   "source": [
    "import numpy as np \n",
    "import os\n",
    "import sys\n",
    "import cv2\n",
    "import matplotlib.pyplot as plt\n",
    "import skimage"
   ]
  },
  {
   "cell_type": "markdown",
   "metadata": {},
   "source": [
    "Function return the closet cluster centroid to each sample in data"
   ]
  },
  {
   "cell_type": "code",
   "execution_count": 2,
   "metadata": {},
   "outputs": [],
   "source": [
    "def findClosetCentroids(data,centroids):\n",
    "    \"\"\"Return the closet centroid index to each data point\"\"\"\n",
    "    nSample=data.shape[0]\n",
    "    #number of clusters\n",
    "    K=centroids.shape[0]\n",
    "    index=np.zeros((nSample,1))\n",
    "    temp=np.zeros((K,1))\n",
    "    for i in range(nSample):\n",
    "        for j in range(K):\n",
    "            temp[j]=np.sum((data[i,:]-centroids[j,:])**2)\n",
    "            index[i]=np.argmin(temp)\n",
    "    return index"
   ]
  },
  {
   "cell_type": "markdown",
   "metadata": {},
   "source": [
    "Function to update the cluster's centroid base on the mean of members in each cluster"
   ]
  },
  {
   "cell_type": "code",
   "execution_count": 3,
   "metadata": {},
   "outputs": [],
   "source": [
    "def updateCentroids(data,index,K):\n",
    "    \"\"\"Update the centroids\"\"\"\n",
    "    temp=np.zeros((K,data.shape[1]))\n",
    "    count=np.zeros((K,1))\n",
    "    for i in range(index.shape[0]):\n",
    "        temp[int(index[i])]+=data[i]\n",
    "        count[int(index[i])]+=1\n",
    "    centroids=temp/count\n",
    "    print(\"Number of samples each cluster:\\n\",count)\n",
    "    print(\"Centroids:\\n\",centroids)\n",
    "    print(\"------------------------------------------------\")\n",
    "    return centroids"
   ]
  },
  {
   "cell_type": "markdown",
   "metadata": {},
   "source": [
    "Initialize centroids list randomlly, each one is picked in the data sample"
   ]
  },
  {
   "cell_type": "code",
   "execution_count": null,
   "metadata": {},
   "outputs": [],
   "source": [
    "def randomInitCentroids(data,K):\n",
    "    print(data.shape)\n",
    "    centroids=np.zeros((K,data.shape[1]))\n",
    "    for i in range(K):\n",
    "        centroids[i]=data[np.random.randint(0,data.shape[0]+1)]\n",
    "    return centroids"
   ]
  },
  {
   "cell_type": "markdown",
   "metadata": {},
   "source": [
    "Implement K-mean clustering algorithm"
   ]
  },
  {
   "cell_type": "code",
   "execution_count": null,
   "metadata": {},
   "outputs": [],
   "source": [
    "def KmeanClustering(data,K,epoch=500):\n",
    "    \"\"\"K-mean clustering implementation\"\"\"\n",
    "    centroids=randomInitCentroids(data,K)\n",
    "    for i in range(epoch):\n",
    "        print(\"Number of interations:\",i+1)\n",
    "        index=findClosetCentroids(data,centroids)\n",
    "        centroids=updateCentroids(data,index,centroids.shape[0])\n",
    "    return centroids"
   ]
  },
  {
   "cell_type": "markdown",
   "metadata": {},
   "source": [
    "Testing with k in {2,4,6,8}"
   ]
  },
  {
   "cell_type": "code",
   "execution_count": null,
   "metadata": {},
   "outputs": [
    {
     "name": "stdout",
     "output_type": "stream",
     "text": [
      "[[255 255 255]\n",
      " [255 255 255]\n",
      " [255 255 255]\n",
      " ...\n",
      " [255 255 255]\n",
      " [255 255 255]\n",
      " [255 255 255]]\n",
      "K-mean clustering with K= 2\n",
      "(110889, 3)\n",
      "Number of interations: 1\n",
      "Number of samples each cluster:\n",
      " [[70299.]\n",
      " [40590.]]\n",
      "Centroids:\n",
      " [[168.2740295   82.14287543  94.20271981]\n",
      " [245.39418576 224.21399359 216.93158413]]\n",
      "------------------------------------------------\n",
      "Number of interations: 2\n",
      "Number of samples each cluster:\n",
      " [[73962.]\n",
      " [36927.]]\n",
      "Centroids:\n",
      " [[171.15960899  85.54697007  96.11618128]\n",
      " [247.26457606 231.48869391 225.2732418 ]]\n",
      "------------------------------------------------\n",
      "Number of interations: 3\n",
      "Number of samples each cluster:\n",
      " [[75296.]\n",
      " [35593.]]\n",
      "Centroids:\n",
      " [[172.09058914  86.83827826  96.98499256]\n",
      " [248.14747282 234.22675807 228.27600933]]\n",
      "------------------------------------------------\n",
      "Number of interations: 4\n",
      "Number of samples each cluster:\n",
      " [[75721.]\n",
      " [35168.]]\n",
      "Centroids:\n",
      " [[172.36844469  87.26748194  97.28462382]\n",
      " [248.46835191 235.08379777 229.21749886]]\n",
      "------------------------------------------------\n",
      "Number of interations: 5\n",
      "Number of samples each cluster:\n",
      " [[75852.]\n",
      " [35037.]]\n",
      "Centroids:\n",
      " [[172.45282919  87.40085957  97.37996361]\n",
      " [248.57019722 235.34771813 229.50438108]]\n",
      "------------------------------------------------\n",
      "Number of interations: 6\n",
      "Number of samples each cluster:\n",
      " [[75888.]\n",
      " [35001.]]\n",
      "Centroids:\n",
      " [[172.47776987  87.43850148  97.40438541]\n",
      " [248.59441159 235.41827376 229.58732608]]\n",
      "------------------------------------------------\n",
      "Number of interations: 7\n"
     ]
    }
   ],
   "source": [
    "img=skimage.io.imread(\"test0.png\")\n",
    "data=img.reshape(-1,3)\n",
    "print(data)\n",
    "for i,k in enumerate([2,4,6,8]):\n",
    "    print(\"K-mean clustering with K=\",k)\n",
    "    centroids=KmeanClustering(data,k,20)\n",
    "    index=findClosetCentroids(data,centroids)\n",
    "    flat_ret=data.copy()\n",
    "    for j in range(flat_ret.shape[0]):\n",
    "        flat_ret[j]=centroids[int(index[j])]\n",
    "    ret=flat_ret.reshape(img.shape)\n",
    "    print(ret)\n",
    "    plt.subplot(2,2,i+1)\n",
    "    plt.title(\"K=%d\"%k)\n",
    "    plt.imshow(ret)"
   ]
  },
  {
   "cell_type": "markdown",
   "metadata": {},
   "source": [
    "Visualize the result with k=2,4,6,8"
   ]
  },
  {
   "cell_type": "code",
   "execution_count": null,
   "metadata": {},
   "outputs": [],
   "source": [
    "plt.show()"
   ]
  }
 ],
 "metadata": {
  "kernelspec": {
   "display_name": "Python 3",
   "language": "python",
   "name": "python3"
  },
  "language_info": {
   "codemirror_mode": {
    "name": "ipython",
    "version": 3
   },
   "file_extension": ".py",
   "mimetype": "text/x-python",
   "name": "python",
   "nbconvert_exporter": "python",
   "pygments_lexer": "ipython3",
   "version": "3.7.3"
  }
 },
 "nbformat": 4,
 "nbformat_minor": 2
}
